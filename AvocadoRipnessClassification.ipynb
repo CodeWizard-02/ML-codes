{
 "cells": [
  {
   "cell_type": "code",
   "execution_count": 1,
   "id": "56ecc042-41f6-4410-9f86-bc26d137c8c7",
   "metadata": {},
   "outputs": [],
   "source": [
    "# basics libs\n",
    "import pandas as pd\n",
    "import numpy as np"
   ]
  },
  {
   "cell_type": "code",
   "execution_count": 2,
   "id": "b0ab5dc8-e6e3-493f-aa05-1207c488c5e8",
   "metadata": {},
   "outputs": [
    {
     "data": {
      "text/html": [
       "<div>\n",
       "<style scoped>\n",
       "    .dataframe tbody tr th:only-of-type {\n",
       "        vertical-align: middle;\n",
       "    }\n",
       "\n",
       "    .dataframe tbody tr th {\n",
       "        vertical-align: top;\n",
       "    }\n",
       "\n",
       "    .dataframe thead th {\n",
       "        text-align: right;\n",
       "    }\n",
       "</style>\n",
       "<table border=\"1\" class=\"dataframe\">\n",
       "  <thead>\n",
       "    <tr style=\"text-align: right;\">\n",
       "      <th></th>\n",
       "      <th>firmness</th>\n",
       "      <th>hue</th>\n",
       "      <th>saturation</th>\n",
       "      <th>brightness</th>\n",
       "      <th>color_category</th>\n",
       "      <th>sound_db</th>\n",
       "      <th>weight_g</th>\n",
       "      <th>size_cm3</th>\n",
       "      <th>ripeness</th>\n",
       "    </tr>\n",
       "  </thead>\n",
       "  <tbody>\n",
       "    <tr>\n",
       "      <th>0</th>\n",
       "      <td>14.5</td>\n",
       "      <td>19</td>\n",
       "      <td>40</td>\n",
       "      <td>26</td>\n",
       "      <td>black</td>\n",
       "      <td>34</td>\n",
       "      <td>175</td>\n",
       "      <td>261</td>\n",
       "      <td>ripe</td>\n",
       "    </tr>\n",
       "    <tr>\n",
       "      <th>1</th>\n",
       "      <td>71.7</td>\n",
       "      <td>53</td>\n",
       "      <td>69</td>\n",
       "      <td>75</td>\n",
       "      <td>green</td>\n",
       "      <td>69</td>\n",
       "      <td>206</td>\n",
       "      <td>185</td>\n",
       "      <td>pre-conditioned</td>\n",
       "    </tr>\n",
       "    <tr>\n",
       "      <th>2</th>\n",
       "      <td>88.5</td>\n",
       "      <td>60</td>\n",
       "      <td>94</td>\n",
       "      <td>46</td>\n",
       "      <td>dark green</td>\n",
       "      <td>79</td>\n",
       "      <td>220</td>\n",
       "      <td>143</td>\n",
       "      <td>hard</td>\n",
       "    </tr>\n",
       "    <tr>\n",
       "      <th>3</th>\n",
       "      <td>93.8</td>\n",
       "      <td>105</td>\n",
       "      <td>87</td>\n",
       "      <td>41</td>\n",
       "      <td>dark green</td>\n",
       "      <td>75</td>\n",
       "      <td>299</td>\n",
       "      <td>140</td>\n",
       "      <td>hard</td>\n",
       "    </tr>\n",
       "    <tr>\n",
       "      <th>4</th>\n",
       "      <td>42.5</td>\n",
       "      <td>303</td>\n",
       "      <td>58</td>\n",
       "      <td>32</td>\n",
       "      <td>purple</td>\n",
       "      <td>63</td>\n",
       "      <td>200</td>\n",
       "      <td>227</td>\n",
       "      <td>breaking</td>\n",
       "    </tr>\n",
       "  </tbody>\n",
       "</table>\n",
       "</div>"
      ],
      "text/plain": [
       "   firmness  hue  saturation  brightness color_category  sound_db  weight_g  \\\n",
       "0      14.5   19          40          26          black        34       175   \n",
       "1      71.7   53          69          75          green        69       206   \n",
       "2      88.5   60          94          46     dark green        79       220   \n",
       "3      93.8  105          87          41     dark green        75       299   \n",
       "4      42.5  303          58          32         purple        63       200   \n",
       "\n",
       "   size_cm3         ripeness  \n",
       "0       261             ripe  \n",
       "1       185  pre-conditioned  \n",
       "2       143             hard  \n",
       "3       140             hard  \n",
       "4       227         breaking  "
      ]
     },
     "execution_count": 2,
     "metadata": {},
     "output_type": "execute_result"
    }
   ],
   "source": [
    "# fetch dataset\n",
    "df = pd.read_csv('/home/akash/Datasets/avocado_ripeness_dataset.csv')\n",
    "df.head()"
   ]
  },
  {
   "cell_type": "code",
   "execution_count": 3,
   "id": "544a7b88-836a-480d-ac59-59a6f599ebc9",
   "metadata": {},
   "outputs": [
    {
     "data": {
      "text/html": [
       "<div>\n",
       "<style scoped>\n",
       "    .dataframe tbody tr th:only-of-type {\n",
       "        vertical-align: middle;\n",
       "    }\n",
       "\n",
       "    .dataframe tbody tr th {\n",
       "        vertical-align: top;\n",
       "    }\n",
       "\n",
       "    .dataframe thead th {\n",
       "        text-align: right;\n",
       "    }\n",
       "</style>\n",
       "<table border=\"1\" class=\"dataframe\">\n",
       "  <thead>\n",
       "    <tr style=\"text-align: right;\">\n",
       "      <th></th>\n",
       "      <th>firmness</th>\n",
       "      <th>hue</th>\n",
       "      <th>saturation</th>\n",
       "      <th>brightness</th>\n",
       "      <th>sound_db</th>\n",
       "      <th>weight_g</th>\n",
       "      <th>size_cm3</th>\n",
       "    </tr>\n",
       "  </thead>\n",
       "  <tbody>\n",
       "    <tr>\n",
       "      <th>count</th>\n",
       "      <td>250.000000</td>\n",
       "      <td>250.00000</td>\n",
       "      <td>250.000000</td>\n",
       "      <td>250.00000</td>\n",
       "      <td>250.000000</td>\n",
       "      <td>250.000000</td>\n",
       "      <td>250.000000</td>\n",
       "    </tr>\n",
       "    <tr>\n",
       "      <th>mean</th>\n",
       "      <td>50.618400</td>\n",
       "      <td>125.94400</td>\n",
       "      <td>64.356000</td>\n",
       "      <td>45.07200</td>\n",
       "      <td>58.016000</td>\n",
       "      <td>220.188000</td>\n",
       "      <td>208.644000</td>\n",
       "    </tr>\n",
       "    <tr>\n",
       "      <th>std</th>\n",
       "      <td>27.277678</td>\n",
       "      <td>117.13767</td>\n",
       "      <td>17.377144</td>\n",
       "      <td>19.11629</td>\n",
       "      <td>13.838126</td>\n",
       "      <td>34.405225</td>\n",
       "      <td>55.940564</td>\n",
       "    </tr>\n",
       "    <tr>\n",
       "      <th>min</th>\n",
       "      <td>10.300000</td>\n",
       "      <td>1.00000</td>\n",
       "      <td>30.000000</td>\n",
       "      <td>10.00000</td>\n",
       "      <td>30.000000</td>\n",
       "      <td>152.000000</td>\n",
       "      <td>100.000000</td>\n",
       "    </tr>\n",
       "    <tr>\n",
       "      <th>25%</th>\n",
       "      <td>25.750000</td>\n",
       "      <td>25.25000</td>\n",
       "      <td>51.250000</td>\n",
       "      <td>31.00000</td>\n",
       "      <td>47.250000</td>\n",
       "      <td>193.250000</td>\n",
       "      <td>155.250000</td>\n",
       "    </tr>\n",
       "    <tr>\n",
       "      <th>50%</th>\n",
       "      <td>48.950000</td>\n",
       "      <td>77.00000</td>\n",
       "      <td>65.000000</td>\n",
       "      <td>46.00000</td>\n",
       "      <td>60.000000</td>\n",
       "      <td>220.000000</td>\n",
       "      <td>218.000000</td>\n",
       "    </tr>\n",
       "    <tr>\n",
       "      <th>75%</th>\n",
       "      <td>74.050000</td>\n",
       "      <td>278.75000</td>\n",
       "      <td>76.750000</td>\n",
       "      <td>58.00000</td>\n",
       "      <td>68.000000</td>\n",
       "      <td>245.000000</td>\n",
       "      <td>260.500000</td>\n",
       "    </tr>\n",
       "    <tr>\n",
       "      <th>max</th>\n",
       "      <td>98.800000</td>\n",
       "      <td>329.00000</td>\n",
       "      <td>99.000000</td>\n",
       "      <td>78.00000</td>\n",
       "      <td>79.000000</td>\n",
       "      <td>299.000000</td>\n",
       "      <td>299.000000</td>\n",
       "    </tr>\n",
       "  </tbody>\n",
       "</table>\n",
       "</div>"
      ],
      "text/plain": [
       "         firmness        hue  saturation  brightness    sound_db    weight_g  \\\n",
       "count  250.000000  250.00000  250.000000   250.00000  250.000000  250.000000   \n",
       "mean    50.618400  125.94400   64.356000    45.07200   58.016000  220.188000   \n",
       "std     27.277678  117.13767   17.377144    19.11629   13.838126   34.405225   \n",
       "min     10.300000    1.00000   30.000000    10.00000   30.000000  152.000000   \n",
       "25%     25.750000   25.25000   51.250000    31.00000   47.250000  193.250000   \n",
       "50%     48.950000   77.00000   65.000000    46.00000   60.000000  220.000000   \n",
       "75%     74.050000  278.75000   76.750000    58.00000   68.000000  245.000000   \n",
       "max     98.800000  329.00000   99.000000    78.00000   79.000000  299.000000   \n",
       "\n",
       "         size_cm3  \n",
       "count  250.000000  \n",
       "mean   208.644000  \n",
       "std     55.940564  \n",
       "min    100.000000  \n",
       "25%    155.250000  \n",
       "50%    218.000000  \n",
       "75%    260.500000  \n",
       "max    299.000000  "
      ]
     },
     "execution_count": 3,
     "metadata": {},
     "output_type": "execute_result"
    }
   ],
   "source": [
    "# EDA & preprocessing\n",
    "df.describe()"
   ]
  },
  {
   "cell_type": "code",
   "execution_count": 4,
   "id": "9344f09a-bb8d-4ae2-9ad2-4a83a89494ad",
   "metadata": {},
   "outputs": [
    {
     "data": {
      "text/plain": [
       "(250, 9)"
      ]
     },
     "execution_count": 4,
     "metadata": {},
     "output_type": "execute_result"
    }
   ],
   "source": [
    "# rows and columns\n",
    "df.shape"
   ]
  },
  {
   "cell_type": "code",
   "execution_count": 5,
   "id": "e7f7f871-01db-40e3-bc16-4145004c68d5",
   "metadata": {},
   "outputs": [
    {
     "data": {
      "text/plain": [
       "firmness          0\n",
       "hue               0\n",
       "saturation        0\n",
       "brightness        0\n",
       "color_category    0\n",
       "sound_db          0\n",
       "weight_g          0\n",
       "size_cm3          0\n",
       "ripeness          0\n",
       "dtype: int64"
      ]
     },
     "execution_count": 5,
     "metadata": {},
     "output_type": "execute_result"
    }
   ],
   "source": [
    "# missing values\n",
    "df.isnull().sum()"
   ]
  },
  {
   "cell_type": "code",
   "execution_count": 6,
   "id": "14169617-95ee-41cc-b0d6-258e50da2775",
   "metadata": {},
   "outputs": [
    {
     "name": "stdout",
     "output_type": "stream",
     "text": [
      "<class 'pandas.core.frame.DataFrame'>\n",
      "RangeIndex: 250 entries, 0 to 249\n",
      "Data columns (total 9 columns):\n",
      " #   Column          Non-Null Count  Dtype  \n",
      "---  ------          --------------  -----  \n",
      " 0   firmness        250 non-null    float64\n",
      " 1   hue             250 non-null    int64  \n",
      " 2   saturation      250 non-null    int64  \n",
      " 3   brightness      250 non-null    int64  \n",
      " 4   color_category  250 non-null    object \n",
      " 5   sound_db        250 non-null    int64  \n",
      " 6   weight_g        250 non-null    int64  \n",
      " 7   size_cm3        250 non-null    int64  \n",
      " 8   ripeness        250 non-null    object \n",
      "dtypes: float64(1), int64(6), object(2)\n",
      "memory usage: 17.7+ KB\n"
     ]
    }
   ],
   "source": [
    "# info\n",
    "df.info()"
   ]
  },
  {
   "cell_type": "code",
   "execution_count": 7,
   "id": "239c8c6a-5036-40fc-8470-91908866b9f8",
   "metadata": {},
   "outputs": [
    {
     "data": {
      "text/html": [
       "<div>\n",
       "<style scoped>\n",
       "    .dataframe tbody tr th:only-of-type {\n",
       "        vertical-align: middle;\n",
       "    }\n",
       "\n",
       "    .dataframe tbody tr th {\n",
       "        vertical-align: top;\n",
       "    }\n",
       "\n",
       "    .dataframe thead th {\n",
       "        text-align: right;\n",
       "    }\n",
       "</style>\n",
       "<table border=\"1\" class=\"dataframe\">\n",
       "  <thead>\n",
       "    <tr style=\"text-align: right;\">\n",
       "      <th></th>\n",
       "      <th>firmness</th>\n",
       "      <th>hue</th>\n",
       "      <th>saturation</th>\n",
       "      <th>brightness</th>\n",
       "      <th>color_category</th>\n",
       "      <th>sound_db</th>\n",
       "      <th>weight_g</th>\n",
       "      <th>size_cm3</th>\n",
       "      <th>ripeness</th>\n",
       "    </tr>\n",
       "  </thead>\n",
       "  <tbody>\n",
       "    <tr>\n",
       "      <th>0</th>\n",
       "      <td>14.5</td>\n",
       "      <td>19</td>\n",
       "      <td>40</td>\n",
       "      <td>26</td>\n",
       "      <td>0</td>\n",
       "      <td>34</td>\n",
       "      <td>175</td>\n",
       "      <td>261</td>\n",
       "      <td>4</td>\n",
       "    </tr>\n",
       "    <tr>\n",
       "      <th>1</th>\n",
       "      <td>71.7</td>\n",
       "      <td>53</td>\n",
       "      <td>69</td>\n",
       "      <td>75</td>\n",
       "      <td>2</td>\n",
       "      <td>69</td>\n",
       "      <td>206</td>\n",
       "      <td>185</td>\n",
       "      <td>3</td>\n",
       "    </tr>\n",
       "    <tr>\n",
       "      <th>2</th>\n",
       "      <td>88.5</td>\n",
       "      <td>60</td>\n",
       "      <td>94</td>\n",
       "      <td>46</td>\n",
       "      <td>1</td>\n",
       "      <td>79</td>\n",
       "      <td>220</td>\n",
       "      <td>143</td>\n",
       "      <td>2</td>\n",
       "    </tr>\n",
       "    <tr>\n",
       "      <th>3</th>\n",
       "      <td>93.8</td>\n",
       "      <td>105</td>\n",
       "      <td>87</td>\n",
       "      <td>41</td>\n",
       "      <td>1</td>\n",
       "      <td>75</td>\n",
       "      <td>299</td>\n",
       "      <td>140</td>\n",
       "      <td>2</td>\n",
       "    </tr>\n",
       "    <tr>\n",
       "      <th>4</th>\n",
       "      <td>42.5</td>\n",
       "      <td>303</td>\n",
       "      <td>58</td>\n",
       "      <td>32</td>\n",
       "      <td>3</td>\n",
       "      <td>63</td>\n",
       "      <td>200</td>\n",
       "      <td>227</td>\n",
       "      <td>0</td>\n",
       "    </tr>\n",
       "  </tbody>\n",
       "</table>\n",
       "</div>"
      ],
      "text/plain": [
       "   firmness  hue  saturation  brightness  color_category  sound_db  weight_g  \\\n",
       "0      14.5   19          40          26               0        34       175   \n",
       "1      71.7   53          69          75               2        69       206   \n",
       "2      88.5   60          94          46               1        79       220   \n",
       "3      93.8  105          87          41               1        75       299   \n",
       "4      42.5  303          58          32               3        63       200   \n",
       "\n",
       "   size_cm3  ripeness  \n",
       "0       261         4  \n",
       "1       185         3  \n",
       "2       143         2  \n",
       "3       140         2  \n",
       "4       227         0  "
      ]
     },
     "execution_count": 7,
     "metadata": {},
     "output_type": "execute_result"
    }
   ],
   "source": [
    "# convert categorical values to numerical\n",
    "from sklearn.preprocessing import LabelEncoder\n",
    "encoder = LabelEncoder()\n",
    "df['color_category'] = encoder.fit_transform(df['color_category'])\n",
    "df['ripeness'] = encoder.fit_transform(df['ripeness'])\n",
    "df.head()"
   ]
  },
  {
   "cell_type": "code",
   "execution_count": 8,
   "id": "f58062f4-9e5e-4826-81d4-311ae54b2d17",
   "metadata": {},
   "outputs": [],
   "source": [
    "# create X and y\n",
    "X = df.drop(columns = ['ripeness'], axis = 1)\n",
    "y = df.ripeness"
   ]
  },
  {
   "cell_type": "code",
   "execution_count": 9,
   "id": "689ed7c9-dd65-4744-b371-62486b5b46b7",
   "metadata": {},
   "outputs": [
    {
     "name": "stdout",
     "output_type": "stream",
     "text": [
      "(250, 8)\n",
      "(250,)\n"
     ]
    }
   ],
   "source": [
    "# shape\n",
    "print(X.shape)\n",
    "print(y.shape)"
   ]
  },
  {
   "cell_type": "code",
   "execution_count": 10,
   "id": "e34bbf71-39c7-4ded-a61d-bee6ceb1586f",
   "metadata": {},
   "outputs": [
    {
     "data": {
      "text/plain": [
       "array([[0.04745763, 0.05487805, 0.14492754, ..., 0.08163265, 0.15646259,\n",
       "        0.80904523],\n",
       "       [0.69378531, 0.15853659, 0.56521739, ..., 0.79591837, 0.36734694,\n",
       "        0.42713568],\n",
       "       [0.88361582, 0.17987805, 0.92753623, ..., 1.        , 0.46258503,\n",
       "        0.2160804 ],\n",
       "       ...,\n",
       "       [0.04180791, 0.00914634, 0.14492754, ..., 0.14285714, 0.24489796,\n",
       "        0.87437186],\n",
       "       [0.57853107, 0.18902439, 0.82608696, ..., 0.71428571, 0.7414966 ,\n",
       "        0.31155779],\n",
       "       [0.08474576, 0.07926829, 0.        , ..., 0.20408163, 0.2585034 ,\n",
       "        0.86432161]], shape=(250, 8))"
      ]
     },
     "execution_count": 10,
     "metadata": {},
     "output_type": "execute_result"
    }
   ],
   "source": [
    "# scale values\n",
    "from sklearn.preprocessing import MinMaxScaler\n",
    "scaler = MinMaxScaler()\n",
    "X_scaled = scaler.fit_transform(X)\n",
    "X_scaled"
   ]
  },
  {
   "cell_type": "code",
   "execution_count": 16,
   "id": "aca0d98f-6ba4-4c6a-8d84-3abbe3100e1d",
   "metadata": {},
   "outputs": [],
   "source": [
    "# split dataset\n",
    "from sklearn.model_selection import train_test_split\n",
    "X_train, X_test, y_train, y_test = train_test_split(X_scaled, y, test_size = 0.3)"
   ]
  },
  {
   "cell_type": "code",
   "execution_count": 24,
   "id": "d0de33a9-a219-48cc-b9f1-a1dbe811b396",
   "metadata": {},
   "outputs": [
    {
     "data": {
      "text/plain": [
       "array([4, 0, 3, 3, 1, 1, 1, 4, 0, 0, 2, 0, 3, 4, 4, 0, 3, 1, 4, 3, 3, 2,\n",
       "       4, 3, 2, 2, 4, 4, 0, 3, 2, 0, 0, 4, 4, 0, 2, 4, 3, 2, 0, 1, 3, 2,\n",
       "       4, 1, 3, 0, 0, 1, 0, 2, 2, 3, 4, 2, 4, 0, 2, 4, 2, 4, 3, 2, 3, 0,\n",
       "       4, 4, 0, 4, 2, 4, 1, 2, 1])"
      ]
     },
     "execution_count": 24,
     "metadata": {},
     "output_type": "execute_result"
    }
   ],
   "source": [
    "# model build\n",
    "from sklearn.tree import DecisionTreeClassifier\n",
    "model = DecisionTreeClassifier()\n",
    "model.fit(X_train, y_train)\n",
    "y_pred = model.predict(X_test)\n",
    "y_pred"
   ]
  },
  {
   "cell_type": "code",
   "execution_count": 25,
   "id": "baad0ed4-4135-4a92-8575-15926b827e5f",
   "metadata": {},
   "outputs": [
    {
     "name": "stdout",
     "output_type": "stream",
     "text": [
      "1.0\n",
      "1.0\n"
     ]
    }
   ],
   "source": [
    "# model score\n",
    "print(model.score(X_train, y_train))\n",
    "print(model.score(X_test, y_test))"
   ]
  },
  {
   "cell_type": "code",
   "execution_count": 27,
   "id": "d603a2e1-a1f9-4d20-88cd-9979604fd5b3",
   "metadata": {},
   "outputs": [
    {
     "data": {
      "text/plain": [
       "'              precision    recall  f1-score   support\\n\\n           0       1.00      1.00      1.00        16\\n           1       1.00      1.00      1.00         9\\n           2       1.00      1.00      1.00        16\\n           3       1.00      1.00      1.00        14\\n           4       1.00      1.00      1.00        20\\n\\n    accuracy                           1.00        75\\n   macro avg       1.00      1.00      1.00        75\\nweighted avg       1.00      1.00      1.00        75\\n'"
      ]
     },
     "execution_count": 27,
     "metadata": {},
     "output_type": "execute_result"
    }
   ],
   "source": [
    "# report\n",
    "from sklearn.metrics import classification_report\n",
    "report = classification_report(y_test, y_pred)\n",
    "report"
   ]
  },
  {
   "cell_type": "code",
   "execution_count": 28,
   "id": "536cb3c0-cb3d-4f45-ab59-ed88b19976c9",
   "metadata": {},
   "outputs": [
    {
     "data": {
      "text/plain": [
       "[Text(0.5, 0.875, 'x[0] <= 0.329\\ngini = 0.798\\nsamples = 175\\nvalue = [34, 41, 34, 36, 30]'),\n",
       " Text(0.25, 0.625, 'x[5] <= 0.286\\ngini = 0.488\\nsamples = 71\\nvalue = [0, 41, 0, 0, 30]'),\n",
       " Text(0.375, 0.75, 'True  '),\n",
       " Text(0.125, 0.375, 'gini = 0.0\\nsamples = 30\\nvalue = [0, 0, 0, 0, 30]'),\n",
       " Text(0.375, 0.375, 'gini = 0.0\\nsamples = 41\\nvalue = [0, 41, 0, 0, 0]'),\n",
       " Text(0.75, 0.625, 'x[1] <= 0.591\\ngini = 0.666\\nsamples = 104\\nvalue = [34, 0, 34, 36, 0]'),\n",
       " Text(0.625, 0.75, '  False'),\n",
       " Text(0.625, 0.375, 'x[4] <= 0.5\\ngini = 0.5\\nsamples = 70\\nvalue = [0, 0, 34, 36, 0]'),\n",
       " Text(0.5, 0.125, 'gini = 0.0\\nsamples = 34\\nvalue = [0, 0, 34, 0, 0]'),\n",
       " Text(0.75, 0.125, 'gini = 0.0\\nsamples = 36\\nvalue = [0, 0, 0, 36, 0]'),\n",
       " Text(0.875, 0.375, 'gini = 0.0\\nsamples = 34\\nvalue = [34, 0, 0, 0, 0]')]"
      ]
     },
     "execution_count": 28,
     "metadata": {},
     "output_type": "execute_result"
    },
    {
     "data": {
      "image/png": "[encoded data removed]",
      "text/plain": [
       "<Figure size 640x480 with 1 Axes>"
      ]
     },
     "metadata": {},
     "output_type": "display_data"
    }
   ],
   "source": [
    "# plot tree\n",
    "from sklearn.tree import plot_tree\n",
    "plot_tree(model)"
   ]
  },
  {
   "cell_type": "code",
   "execution_count": 30,
   "id": "78628999-dceb-4ca4-aedf-92ade5ebbb4b",
   "metadata": {},
   "outputs": [
    {
     "data": {
      "text/plain": [
       "array([0])"
      ]
     },
     "execution_count": 30,
     "metadata": {},
     "output_type": "execute_result"
    }
   ],
   "source": [
    "# unseen prediction\n",
    "model.predict([[93.8, 105, 87, 41, 1, 75, 299, 140]])"
   ]
  }
 ],
 "metadata": {
  "kernelspec": {
   "display_name": "Python 3 (ipykernel)",
   "language": "python",
   "name": "python3"
  },
  "language_info": {
   "codemirror_mode": {
    "name": "ipython",
    "version": 3
   },
   "file_extension": ".py",
   "mimetype": "text/x-python",
   "name": "python",
   "nbconvert_exporter": "python",
   "pygments_lexer": "ipython3",
   "version": "3.13.3"
  }
 },
 "nbformat": 4,
 "nbformat_minor": 5
}
