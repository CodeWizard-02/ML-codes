{
 "cells": [
  {
   "cell_type": "code",
   "execution_count": 32,
   "id": "88579bd6-8ff3-4128-aa14-cde835d1b321",
   "metadata": {},
   "outputs": [],
   "source": [
    "# basic libraries\n",
    "import pandas as pd\n",
    "import numpy as np"
   ]
  },
  {
   "cell_type": "code",
   "execution_count": 4,
   "id": "be2ca13c-59e3-4209-be37-3260e89cbf43",
   "metadata": {},
   "outputs": [
    {
     "data": {
      "text/html": [
       "<div>\n",
       "<style scoped>\n",
       "    .dataframe tbody tr th:only-of-type {\n",
       "        vertical-align: middle;\n",
       "    }\n",
       "\n",
       "    .dataframe tbody tr th {\n",
       "        vertical-align: top;\n",
       "    }\n",
       "\n",
       "    .dataframe thead th {\n",
       "        text-align: right;\n",
       "    }\n",
       "</style>\n",
       "<table border=\"1\" class=\"dataframe\">\n",
       "  <thead>\n",
       "    <tr style=\"text-align: right;\">\n",
       "      <th></th>\n",
       "      <th>screen_time_hours</th>\n",
       "      <th>social_media_platforms_used</th>\n",
       "      <th>hours_on_TikTok</th>\n",
       "      <th>sleep_hours</th>\n",
       "      <th>stress_level</th>\n",
       "      <th>mood_score</th>\n",
       "    </tr>\n",
       "  </thead>\n",
       "  <tbody>\n",
       "    <tr>\n",
       "      <th>0</th>\n",
       "      <td>10.3</td>\n",
       "      <td>2</td>\n",
       "      <td>5.3</td>\n",
       "      <td>4.4</td>\n",
       "      <td>10</td>\n",
       "      <td>5</td>\n",
       "    </tr>\n",
       "    <tr>\n",
       "      <th>1</th>\n",
       "      <td>6.5</td>\n",
       "      <td>5</td>\n",
       "      <td>3.5</td>\n",
       "      <td>6.2</td>\n",
       "      <td>8</td>\n",
       "      <td>8</td>\n",
       "    </tr>\n",
       "    <tr>\n",
       "      <th>2</th>\n",
       "      <td>9.1</td>\n",
       "      <td>4</td>\n",
       "      <td>2.8</td>\n",
       "      <td>6.6</td>\n",
       "      <td>7</td>\n",
       "      <td>8</td>\n",
       "    </tr>\n",
       "    <tr>\n",
       "      <th>3</th>\n",
       "      <td>6.5</td>\n",
       "      <td>3</td>\n",
       "      <td>2.5</td>\n",
       "      <td>6.5</td>\n",
       "      <td>7</td>\n",
       "      <td>9</td>\n",
       "    </tr>\n",
       "    <tr>\n",
       "      <th>4</th>\n",
       "      <td>2.1</td>\n",
       "      <td>3</td>\n",
       "      <td>1.2</td>\n",
       "      <td>7.8</td>\n",
       "      <td>2</td>\n",
       "      <td>10</td>\n",
       "    </tr>\n",
       "  </tbody>\n",
       "</table>\n",
       "</div>"
      ],
      "text/plain": [
       "   screen_time_hours  social_media_platforms_used  hours_on_TikTok  \\\n",
       "0               10.3                            2              5.3   \n",
       "1                6.5                            5              3.5   \n",
       "2                9.1                            4              2.8   \n",
       "3                6.5                            3              2.5   \n",
       "4                2.1                            3              1.2   \n",
       "\n",
       "   sleep_hours  stress_level  mood_score  \n",
       "0          4.4            10           5  \n",
       "1          6.2             8           8  \n",
       "2          6.6             7           8  \n",
       "3          6.5             7           9  \n",
       "4          7.8             2          10  "
      ]
     },
     "execution_count": 4,
     "metadata": {},
     "output_type": "execute_result"
    }
   ],
   "source": [
    "# fetch dataset\n",
    "df = pd.read_csv('/home/akash/Datasets/digital_habits_vs_mental_health.csv')\n",
    "df.head()"
   ]
  },
  {
   "cell_type": "code",
   "execution_count": 5,
   "id": "cf0fbe1f-2c94-4722-9f3a-55a62652a122",
   "metadata": {},
   "outputs": [
    {
     "data": {
      "text/html": [
       "<div>\n",
       "<style scoped>\n",
       "    .dataframe tbody tr th:only-of-type {\n",
       "        vertical-align: middle;\n",
       "    }\n",
       "\n",
       "    .dataframe tbody tr th {\n",
       "        vertical-align: top;\n",
       "    }\n",
       "\n",
       "    .dataframe thead th {\n",
       "        text-align: right;\n",
       "    }\n",
       "</style>\n",
       "<table border=\"1\" class=\"dataframe\">\n",
       "  <thead>\n",
       "    <tr style=\"text-align: right;\">\n",
       "      <th></th>\n",
       "      <th>screen_time_hours</th>\n",
       "      <th>social_media_platforms_used</th>\n",
       "      <th>hours_on_TikTok</th>\n",
       "      <th>sleep_hours</th>\n",
       "      <th>stress_level</th>\n",
       "      <th>mood_score</th>\n",
       "    </tr>\n",
       "  </thead>\n",
       "  <tbody>\n",
       "    <tr>\n",
       "      <th>count</th>\n",
       "      <td>100000.000000</td>\n",
       "      <td>100000.000000</td>\n",
       "      <td>100000.000000</td>\n",
       "      <td>100000.000000</td>\n",
       "      <td>100000.000000</td>\n",
       "      <td>100000.00000</td>\n",
       "    </tr>\n",
       "    <tr>\n",
       "      <th>mean</th>\n",
       "      <td>6.003505</td>\n",
       "      <td>2.997820</td>\n",
       "      <td>2.401433</td>\n",
       "      <td>6.988489</td>\n",
       "      <td>6.179590</td>\n",
       "      <td>9.06076</td>\n",
       "    </tr>\n",
       "    <tr>\n",
       "      <th>std</th>\n",
       "      <td>1.987073</td>\n",
       "      <td>1.414452</td>\n",
       "      <td>1.079111</td>\n",
       "      <td>1.466330</td>\n",
       "      <td>2.045409</td>\n",
       "      <td>1.27847</td>\n",
       "    </tr>\n",
       "    <tr>\n",
       "      <th>min</th>\n",
       "      <td>1.000000</td>\n",
       "      <td>1.000000</td>\n",
       "      <td>0.200000</td>\n",
       "      <td>3.000000</td>\n",
       "      <td>1.000000</td>\n",
       "      <td>2.00000</td>\n",
       "    </tr>\n",
       "    <tr>\n",
       "      <th>25%</th>\n",
       "      <td>4.700000</td>\n",
       "      <td>2.000000</td>\n",
       "      <td>1.600000</td>\n",
       "      <td>6.000000</td>\n",
       "      <td>5.000000</td>\n",
       "      <td>8.00000</td>\n",
       "    </tr>\n",
       "    <tr>\n",
       "      <th>50%</th>\n",
       "      <td>6.000000</td>\n",
       "      <td>3.000000</td>\n",
       "      <td>2.300000</td>\n",
       "      <td>7.000000</td>\n",
       "      <td>6.000000</td>\n",
       "      <td>10.00000</td>\n",
       "    </tr>\n",
       "    <tr>\n",
       "      <th>75%</th>\n",
       "      <td>7.300000</td>\n",
       "      <td>4.000000</td>\n",
       "      <td>3.100000</td>\n",
       "      <td>8.000000</td>\n",
       "      <td>8.000000</td>\n",
       "      <td>10.00000</td>\n",
       "    </tr>\n",
       "    <tr>\n",
       "      <th>max</th>\n",
       "      <td>12.000000</td>\n",
       "      <td>5.000000</td>\n",
       "      <td>7.200000</td>\n",
       "      <td>10.000000</td>\n",
       "      <td>10.000000</td>\n",
       "      <td>10.00000</td>\n",
       "    </tr>\n",
       "  </tbody>\n",
       "</table>\n",
       "</div>"
      ],
      "text/plain": [
       "       screen_time_hours  social_media_platforms_used  hours_on_TikTok  \\\n",
       "count      100000.000000                100000.000000    100000.000000   \n",
       "mean            6.003505                     2.997820         2.401433   \n",
       "std             1.987073                     1.414452         1.079111   \n",
       "min             1.000000                     1.000000         0.200000   \n",
       "25%             4.700000                     2.000000         1.600000   \n",
       "50%             6.000000                     3.000000         2.300000   \n",
       "75%             7.300000                     4.000000         3.100000   \n",
       "max            12.000000                     5.000000         7.200000   \n",
       "\n",
       "         sleep_hours   stress_level    mood_score  \n",
       "count  100000.000000  100000.000000  100000.00000  \n",
       "mean        6.988489       6.179590       9.06076  \n",
       "std         1.466330       2.045409       1.27847  \n",
       "min         3.000000       1.000000       2.00000  \n",
       "25%         6.000000       5.000000       8.00000  \n",
       "50%         7.000000       6.000000      10.00000  \n",
       "75%         8.000000       8.000000      10.00000  \n",
       "max        10.000000      10.000000      10.00000  "
      ]
     },
     "execution_count": 5,
     "metadata": {},
     "output_type": "execute_result"
    }
   ],
   "source": [
    "# EDA & preprocessing\n",
    "df.describe()"
   ]
  },
  {
   "cell_type": "code",
   "execution_count": 8,
   "id": "ca426e59-b63f-4a35-9bf9-79369be8f364",
   "metadata": {},
   "outputs": [
    {
     "name": "stdout",
     "output_type": "stream",
     "text": [
      "<class 'pandas.core.frame.DataFrame'>\n",
      "RangeIndex: 100000 entries, 0 to 99999\n",
      "Data columns (total 6 columns):\n",
      " #   Column                       Non-Null Count   Dtype  \n",
      "---  ------                       --------------   -----  \n",
      " 0   screen_time_hours            100000 non-null  float64\n",
      " 1   social_media_platforms_used  100000 non-null  int64  \n",
      " 2   hours_on_TikTok              100000 non-null  float64\n",
      " 3   sleep_hours                  100000 non-null  float64\n",
      " 4   stress_level                 100000 non-null  int64  \n",
      " 5   mood_score                   100000 non-null  int64  \n",
      "dtypes: float64(3), int64(3)\n",
      "memory usage: 4.6 MB\n"
     ]
    }
   ],
   "source": [
    "# information\n",
    "df.info()"
   ]
  },
  {
   "cell_type": "code",
   "execution_count": 9,
   "id": "19d658e9-1c4a-4f6f-9d61-6e6b7f31aff8",
   "metadata": {},
   "outputs": [
    {
     "data": {
      "text/plain": [
       "(100000, 6)"
      ]
     },
     "execution_count": 9,
     "metadata": {},
     "output_type": "execute_result"
    }
   ],
   "source": [
    "# shape of dataset\n",
    "df.shape"
   ]
  },
  {
   "cell_type": "code",
   "execution_count": 10,
   "id": "120779ba-fba1-4605-aa36-4c7343ffa856",
   "metadata": {},
   "outputs": [
    {
     "data": {
      "text/plain": [
       "screen_time_hours              0\n",
       "social_media_platforms_used    0\n",
       "hours_on_TikTok                0\n",
       "sleep_hours                    0\n",
       "stress_level                   0\n",
       "mood_score                     0\n",
       "dtype: int64"
      ]
     },
     "execution_count": 10,
     "metadata": {},
     "output_type": "execute_result"
    }
   ],
   "source": [
    "# handle missing values\n",
    "df.isna().sum()"
   ]
  },
  {
   "cell_type": "code",
   "execution_count": 11,
   "id": "66292c46-d9e8-4f3c-a045-9cef569cd170",
   "metadata": {},
   "outputs": [],
   "source": [
    "# create X and y\n",
    "X = df.drop(columns = ['mood_score'], axis = 1)\n",
    "y = df.mood_score"
   ]
  },
  {
   "cell_type": "code",
   "execution_count": 12,
   "id": "757d0dd6-ac6d-4d93-b57b-7e19af62e896",
   "metadata": {},
   "outputs": [
    {
     "name": "stdout",
     "output_type": "stream",
     "text": [
      "(100000, 5)\n",
      "(100000,)\n"
     ]
    }
   ],
   "source": [
    "# shape of X and y\n",
    "print(X.shape)\n",
    "print(y.shape)"
   ]
  },
  {
   "cell_type": "code",
   "execution_count": 14,
   "id": "696986f3-a9d0-4509-96e0-8f67045b4c89",
   "metadata": {},
   "outputs": [
    {
     "data": {
      "text/plain": [
       "array([[0.84545455, 0.25      , 0.72857143, 0.2       , 1.        ],\n",
       "       [0.5       , 1.        , 0.47142857, 0.45714286, 0.77777778],\n",
       "       [0.73636364, 0.75      , 0.37142857, 0.51428571, 0.66666667],\n",
       "       ...,\n",
       "       [0.24545455, 0.5       , 0.18571429, 0.75714286, 0.33333333],\n",
       "       [0.87272727, 0.25      , 0.72857143, 0.6       , 0.88888889],\n",
       "       [0.4       , 0.75      , 0.28571429, 0.62857143, 0.44444444]],\n",
       "      shape=(100000, 5))"
      ]
     },
     "execution_count": 14,
     "metadata": {},
     "output_type": "execute_result"
    }
   ],
   "source": [
    "# scale values\n",
    "from sklearn.preprocessing import MinMaxScaler\n",
    "scaler = MinMaxScaler()\n",
    "X_scaled = scaler.fit_transform(X)\n",
    "X_scaled"
   ]
  },
  {
   "cell_type": "code",
   "execution_count": 19,
   "id": "6da38bc8-7adb-4262-a2b0-b432cff5116c",
   "metadata": {},
   "outputs": [],
   "source": [
    "# split dataset\n",
    "from sklearn.model_selection import train_test_split\n",
    "X_train, X_test, y_train, y_test = train_test_split(X_scaled, y, test_size = 0.3)"
   ]
  },
  {
   "cell_type": "code",
   "execution_count": 30,
   "id": "93864f5a-8b32-4fcf-a8b0-16dd14377a91",
   "metadata": {},
   "outputs": [
    {
     "data": {
      "text/plain": [
       "array([ 6, 10,  9, ..., 10,  7,  9], shape=(30000,))"
      ]
     },
     "execution_count": 30,
     "metadata": {},
     "output_type": "execute_result"
    }
   ],
   "source": [
    "# model build\n",
    "from sklearn.ensemble import RandomForestClassifier\n",
    "model = RandomForestClassifier(n_estimators = 200, max_features = 1.0)\n",
    "model.fit(X_train, y_train) \n",
    "model.predict(X_test)"
   ]
  },
  {
   "cell_type": "code",
   "execution_count": 31,
   "id": "7d58eb52-018a-4710-9a71-18ce4104888d",
   "metadata": {},
   "outputs": [
    {
     "name": "stdout",
     "output_type": "stream",
     "text": [
      "0.9901428571428571\n",
      "0.5912\n"
     ]
    }
   ],
   "source": [
    "# model score\n",
    "print(model.score(X_train, y_train))\n",
    "print(model.score(X_test, y_test))"
   ]
  },
  {
   "cell_type": "code",
   "execution_count": 33,
   "id": "9f9fccbf-b324-4f51-ba7d-05870f565af2",
   "metadata": {},
   "outputs": [
    {
     "data": {
      "text/plain": [
       "array([9])"
      ]
     },
     "execution_count": 33,
     "metadata": {},
     "output_type": "execute_result"
    }
   ],
   "source": [
    "# unseen prediction\n",
    "model.predict([[10.3, 2, 5.3, 4.4, 10]])"
   ]
  }
 ],
 "metadata": {
  "kernelspec": {
   "display_name": "Python 3 (ipykernel)",
   "language": "python",
   "name": "python3"
  },
  "language_info": {
   "codemirror_mode": {
    "name": "ipython",
    "version": 3
   },
   "file_extension": ".py",
   "mimetype": "text/x-python",
   "name": "python",
   "nbconvert_exporter": "python",
   "pygments_lexer": "ipython3",
   "version": "3.13.3"
  }
 },
 "nbformat": 4,
 "nbformat_minor": 5
}
